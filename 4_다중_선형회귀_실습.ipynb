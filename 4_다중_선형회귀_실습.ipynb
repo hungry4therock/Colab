{
  "nbformat": 4,
  "nbformat_minor": 0,
  "metadata": {
    "colab": {
      "name": "4_다중 선형회귀 실습.ipynb",
      "provenance": [],
      "collapsed_sections": [],
      "authorship_tag": "ABX9TyONshHXF46EcqGNhhFTYBEJ",
      "include_colab_link": true
    },
    "kernelspec": {
      "name": "python3",
      "display_name": "Python 3"
    },
    "language_info": {
      "name": "python"
    }
  },
  "cells": [
    {
      "cell_type": "markdown",
      "metadata": {
        "id": "view-in-github",
        "colab_type": "text"
      },
      "source": [
        "<a href=\"https://colab.research.google.com/github/hungry4therock/Colab/blob/main/4_%EB%8B%A4%EC%A4%91_%EC%84%A0%ED%98%95%ED%9A%8C%EA%B7%80_%EC%8B%A4%EC%8A%B5.ipynb\" target=\"_parent\"><img src=\"https://colab.research.google.com/assets/colab-badge.svg\" alt=\"Open In Colab\"/></a>"
      ]
    },
    {
      "cell_type": "code",
      "metadata": {
        "id": "slpv03rHjRBI"
      },
      "source": [
        "\"\"\"\n",
        "내용: 다중 선형회귀 분석 실습\n",
        "\"\"\"\n",
        "from sklearn.linear_model import LinearRegression\n",
        "from sklearn import svm"
      ],
      "execution_count": 1,
      "outputs": []
    },
    {
      "cell_type": "code",
      "metadata": {
        "id": "wRO3QEUyjhTO"
      },
      "source": [
        "# 학습데이터\n",
        "train_data = [[170, 30], [155, 60], [150, 50], [175, 40], [165, 20]]\n",
        "train_label = [65, 50, 45, 70, 55]"
      ],
      "execution_count": 2,
      "outputs": []
    },
    {
      "cell_type": "code",
      "metadata": {
        "id": "PAgnL-JAkHEF",
        "colab": {
          "base_uri": "https://localhost:8080/"
        },
        "outputId": "2ed3c828-5158-4c98-97e8-6c077cb99fe1"
      },
      "source": [
        "#학습하기\n",
        "#model = LinearRegression()\n",
        "model = svm.SVC()\n",
        "model.fit(train_data, train_label)"
      ],
      "execution_count": 3,
      "outputs": [
        {
          "output_type": "execute_result",
          "data": {
            "text/plain": [
              "SVC(C=1.0, break_ties=False, cache_size=200, class_weight=None, coef0=0.0,\n",
              "    decision_function_shape='ovr', degree=3, gamma='scale', kernel='rbf',\n",
              "    max_iter=-1, probability=False, random_state=None, shrinking=True,\n",
              "    tol=0.001, verbose=False)"
            ]
          },
          "metadata": {
            "tags": []
          },
          "execution_count": 3
        }
      ]
    },
    {
      "cell_type": "code",
      "metadata": {
        "id": "Ozp0nKdElQON",
        "colab": {
          "base_uri": "https://localhost:8080/"
        },
        "outputId": "89513c81-ee86-4647-91cb-162583f3dab0"
      },
      "source": [
        "#테스트하기\n",
        "test_data = [[172, 21], [186, 43], [178, 39]]\n",
        "result = model.predict(test_data)\n",
        "result"
      ],
      "execution_count": 5,
      "outputs": [
        {
          "output_type": "execute_result",
          "data": {
            "text/plain": [
              "array([55, 70, 70])"
            ]
          },
          "metadata": {
            "tags": []
          },
          "execution_count": 5
        }
      ]
    },
    {
      "cell_type": "code",
      "metadata": {
        "id": "ob5HN110lSIV"
      },
      "source": [
        "#다중선형회귀 문제\n",
        "#학습데이터\n",
        "train_data = [[170, 30, 1], [155, 60, 2], [150, 50, 2], [175, 40, 1], [165, 20, 1]]\n",
        "train_label = [65, 50, 45, 70, 55]"
      ],
      "execution_count": 6,
      "outputs": []
    },
    {
      "cell_type": "code",
      "metadata": {
        "colab": {
          "base_uri": "https://localhost:8080/"
        },
        "id": "yW6fVv5Vottt",
        "outputId": "e9311ce3-48aa-4d77-a294-9ae6efeb075e"
      },
      "source": [
        "#학습모델\n",
        "model = LinearRegression()\n",
        "model.fit(train_data, train_label)"
      ],
      "execution_count": 7,
      "outputs": [
        {
          "output_type": "execute_result",
          "data": {
            "text/plain": [
              "LinearRegression(copy_X=True, fit_intercept=True, n_jobs=None, normalize=False)"
            ]
          },
          "metadata": {
            "tags": []
          },
          "execution_count": 7
        }
      ]
    },
    {
      "cell_type": "code",
      "metadata": {
        "colab": {
          "base_uri": "https://localhost:8080/"
        },
        "id": "MHk36sm_oxZ8",
        "outputId": "bf834775-2d44-4cb8-8b8a-cd3e37d83f6e"
      },
      "source": [
        "#테스트하기\n",
        "test_data = [[176, 25, 1], [176, 25, 2], [176, 72, 1]]\n",
        "result = model.predict(test_data)\n",
        "result"
      ],
      "execution_count": 8,
      "outputs": [
        {
          "output_type": "execute_result",
          "data": {
            "text/plain": [
              "array([69.26797966, 69.23339806, 76.08395747])"
            ]
          },
          "metadata": {
            "tags": []
          },
          "execution_count": 8
        }
      ]
    }
  ]
}