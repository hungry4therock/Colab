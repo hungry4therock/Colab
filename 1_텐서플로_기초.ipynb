{
  "nbformat": 4,
  "nbformat_minor": 0,
  "metadata": {
    "colab": {
      "name": "1_텐서플로 기초.ipynb",
      "provenance": [],
      "collapsed_sections": [],
      "authorship_tag": "ABX9TyP6IBTs3vxxgOEr8Y5IlLiZ",
      "include_colab_link": true
    },
    "kernelspec": {
      "name": "python3",
      "display_name": "Python 3"
    },
    "language_info": {
      "name": "python"
    },
    "accelerator": "GPU"
  },
  "cells": [
    {
      "cell_type": "markdown",
      "metadata": {
        "id": "view-in-github",
        "colab_type": "text"
      },
      "source": [
        "<a href=\"https://colab.research.google.com/github/hungry4therock/Colab/blob/main/1_%ED%85%90%EC%84%9C%ED%94%8C%EB%A1%9C_%EA%B8%B0%EC%B4%88.ipynb\" target=\"_parent\"><img src=\"https://colab.research.google.com/assets/colab-badge.svg\" alt=\"Open In Colab\"/></a>"
      ]
    },
    {
      "cell_type": "code",
      "metadata": {
        "colab": {
          "base_uri": "https://localhost:8080/",
          "height": 35
        },
        "id": "G7JVeh5-Sz16",
        "outputId": "7e194d15-c871-4bb0-ebbe-02fda604336b"
      },
      "source": [
        "\"\"\"\n",
        "내용: 텐서플로 기초 실습하기\n",
        "\"\"\"\n",
        "import tensorflow as tf\n",
        "tf.__version__"
      ],
      "execution_count": 1,
      "outputs": [
        {
          "output_type": "execute_result",
          "data": {
            "application/vnd.google.colaboratory.intrinsic+json": {
              "type": "string"
            },
            "text/plain": [
              "'2.5.0'"
            ]
          },
          "metadata": {
            "tags": []
          },
          "execution_count": 1
        }
      ]
    },
    {
      "cell_type": "code",
      "metadata": {
        "colab": {
          "base_uri": "https://localhost:8080/"
        },
        "id": "93YQR6KgTTJm",
        "outputId": "5a5b62fe-0b6a-4145-92e8-e9b006f946d8"
      },
      "source": [
        "# 텐서플로 상수\n",
        "var1 = tf.constant('Hello Tensorflow!')\n",
        "var2 = tf.constant([100, 100])\n",
        "print(var1)\n",
        "print(var2)\n"
      ],
      "execution_count": 2,
      "outputs": [
        {
          "output_type": "stream",
          "text": [
            "tf.Tensor(b'Hello Tensorflow!', shape=(), dtype=string)\n",
            "tf.Tensor([100 100], shape=(2,), dtype=int32)\n"
          ],
          "name": "stdout"
        }
      ]
    },
    {
      "cell_type": "code",
      "metadata": {
        "id": "ul19cpvgT_5x",
        "colab": {
          "base_uri": "https://localhost:8080/"
        },
        "outputId": "5e2254b7-c567-4951-8dfd-e7987e4a3d78"
      },
      "source": [
        "# 텐서플로 변수\n",
        "num1 = tf.Variable(1)\n",
        "num2 = tf.Variable(2)\n",
        "num3 = num1 + num2\n",
        "num3"
      ],
      "execution_count": 3,
      "outputs": [
        {
          "output_type": "execute_result",
          "data": {
            "text/plain": [
              "<tf.Tensor: shape=(), dtype=int32, numpy=3>"
            ]
          },
          "metadata": {
            "tags": []
          },
          "execution_count": 3
        }
      ]
    }
  ]
}